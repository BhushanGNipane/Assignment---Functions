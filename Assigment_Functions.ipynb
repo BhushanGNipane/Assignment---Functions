{
  "nbformat": 4,
  "nbformat_minor": 0,
  "metadata": {
    "colab": {
      "provenance": []
    },
    "kernelspec": {
      "name": "python3",
      "display_name": "Python 3"
    },
    "language_info": {
      "name": "python"
    }
  },
  "cells": [
    {
      "cell_type": "markdown",
      "source": [
        "#Assignment on Functions\n",
        "\n"
      ],
      "metadata": {
        "id": "gTBpulUulg31"
      }
    },
    {
      "cell_type": "markdown",
      "source": [
        "#Theoretical Questions:\n",
        "\n",
        "\n"
      ],
      "metadata": {
        "id": "DrEu4g2bTzAr"
      }
    },
    {
      "cell_type": "markdown",
      "source": [
        "1.What is the difference between a function and a method in Python?\n",
        "\n",
        "Functions and methods are similar in that they both perform specific tasks, but they differ in their context and usage.\n",
        "\n",
        "**Function :**\n",
        "\n",
        "- A function is a block of reusable code that is defined using the def keyword and can exist independently of any object.\n",
        "- Functions are called directly and can be used anywhere in the program.\n",
        "\n",
        "  Example:\n",
        "\n",
        "    def greet(name):\n",
        "  \n",
        "    return f\"Hello, {name}!\"\n",
        "    \n",
        "    print(greet(\"Bhushan\")\n",
        "\n",
        "    Output: Hello, Bhushan!\n",
        "\n",
        "**Method :**\n",
        "\n",
        "- A method is a function that is associated with an object and is called on that object. It is defined within a class and typically operates on the data (attributes) of that object.\n",
        "- Methods are called using the syntax object.method().\n",
        "\n",
        "   Example:\n",
        "\n",
        "    class Greeter:\n",
        "\n",
        "    def greet(self, name):\n",
        "\n",
        "    return f\"Hello, {name}!\"\n",
        "    \n",
        "    greeter = Greeter()\n",
        "\n",
        "2.Explain the concept of function arguments and parameters in Python?\n",
        "\n",
        "Function arguments and parameters are fundamental concepts that help in passing data to functions and retrieving results.\n",
        "\n",
        "**Parameters :**\n",
        "\n",
        "- Parameters are the variables listed in a function's definition. They act as placeholders for the values that the function will receive when it is called.\n",
        "- They define the input that the function expects.\n",
        "- Parameters are placeholders in the function definition.\n",
        "\n",
        "    Example:\n",
        "\n",
        "    def greet(name):  \n",
        "\n",
        "   'name' is the parameter\n",
        "\n",
        "    print(f\"Hello, {name}!\")\n",
        "\n",
        "**Arguments :**\n",
        "- Arguments are the actual values or data you pass to a function when calling it. These values are assigned to the corresponding parameters.\n",
        "- They provide the specific data the function will use.\n",
        "- Arguments are the actual values passed to the function during a call.\n",
        "\n",
        "    Example:\n",
        "\n",
        "    greet(\"Bhushan\")\n",
        "\n",
        "    \"Bhushan\" is the argument\n",
        "\n",
        "3.What are the different ways to define and call a function in Python?\n",
        "\n",
        "Functions can be defined and called in various ways depending on the use case. Here are some common approaches:\n",
        "\n",
        "**Standard Function Definition** :\n",
        "\n",
        "Use the def keyword to define a function.\n",
        "- Calling: Call the function by its name followed by parentheses.\n",
        "\n",
        "  **Define a function :**\n",
        "\n",
        "  def greet(name):\n",
        "\n",
        "  return f\"Hello, {name}!\"\n",
        "\n",
        "  **Call the function :**\n",
        "\n",
        "  print(greet(\"Bhushan\"))\n",
        "\n",
        "**Lambda Functions :**\n",
        "- Use the lambda keyword for short, single-expression functions.\n",
        "- Assign the lambda to a variable or use it directly.\n",
        "\n",
        "  **Define a lambda function :**\n",
        "\n",
        "   square = lambda x: x ** 2\n",
        "\n",
        "  **Call the lambda function :**\n",
        "\n",
        "   print(square(5))\n",
        "\n",
        "  **Direct use :**\n",
        "\n",
        "    print((lambda x, y: x + y)(3, 7))\n",
        "\n",
        "**Functions with Default Arguments :**\n",
        "- Provide default values for parameters in the function definition.\n",
        "- Call with or without overriding the default values.\n",
        "\n",
        "   **Define a function with default arguments :**\n",
        "\n",
        "    def introduce(name, age=25):\n",
        "\n",
        "    return f\"My name is {name}, and I am {age} years old.\"\n",
        "\n",
        "    **Call with default value :**\n",
        "\n",
        "     print(introduce(\"Bhushan\"))\n",
        "\n",
        "**Recursive Functions :**\n",
        "\n",
        "- A function that calls itself.\n",
        "- Ensure a base case to avoid infinite recursion.\n",
        "\n",
        "   **Define a recursive function :**\n",
        "\n",
        "    def factorial(n):\n",
        "\n",
        "    if n == 0:\n",
        "\n",
        "    return 1\n",
        "\n",
        "    return n * factorial(n - 1)\n",
        "\n",
        "  **Call the recursive function**\n",
        "  \n",
        "  print(factorial(5))\n",
        "\n",
        "**Higher-Order Functions :**\n",
        "- Functions that take other functions as arguments or return functions.\n",
        "- Pass functions as arguments or call returned functions.\n",
        "\n",
        "    **Define a higher-order function :**\n",
        "\n",
        "    def apply_function(func, value):\n",
        "\n",
        "    return func(value)\n",
        "\n",
        "    **Call with a lambda :**\n",
        "\n",
        "    print(apply_function(lambda x: x ** 3, 4))\n",
        "\n",
        "**Class Methods :**\n",
        "- Define functions inside a class using def.\n",
        "- Call using an instance or the class.\n",
        "\n",
        "    **Call using an instance :**\n",
        "\n",
        "    calc = Calculator()\n",
        "\n",
        "    print(calc.add(3, 7))\n",
        "\n",
        "**Generator Functions :**\n",
        "- Use the yield keyword to create a generator.\n",
        "- Call the function and iterate over the generator.\n",
        "\n",
        "    **Define a generator function**\n",
        "\n",
        "    def count_up_to(n):\n",
        "\n",
        "    count = 1\n",
        "\n",
        "    while count <= n:\n",
        "\n",
        "    yield count\n",
        "\n",
        "    count += 1\n",
        "\n",
        "    **Call and iterate :**\n",
        "\n",
        "    for num in count_up_to(5):\n",
        "\n",
        "    print(num)\n",
        "\n",
        "4.What is the purpose of the  `return` statement in a Python function?\n",
        "\n",
        "**Send a Value Back to the Caller:**\n",
        "\n",
        "- It allows a function to send a result or value back to the part of the program that called it.\n",
        "\n",
        " For example:\n",
        "\n",
        " def add(a, b):\n",
        "\n",
        "    return a + b\n",
        "    \n",
        "    result = add(3, 5)  \n",
        "    \n",
        "    result will be 8\n",
        "\n",
        "**End Function Execution:**\n",
        "\n",
        "- When a return statement is executed, the function stops running immediately, even if there are more lines of code after it.\n",
        "\n",
        "    For example:\n",
        "\n",
        "    def example():\n",
        "\n",
        "    return \"This ends here\"\n",
        "\n",
        "    print(\"This will not execute\")  # This line is ignored\n",
        "\n",
        "**Return Multiple Values:**\n",
        "\n",
        "- Python allows returning multiple values as a tuple, which can be unpacked by the caller.\n",
        "    \n",
        "    For example:\n",
        "\n",
        "    def get_coordinates():\n",
        "\n",
        "    return 10, 20\n",
        "    \n",
        "    x, y = get_coordinates()  # x = 10, y = 20\n",
        "\n",
        "- If no return statement is provided, the function implicitly returns None.\n",
        "\n",
        "5.What are iterators in Python and how do they differ from iterables?\n",
        "- Iterators in Python are objects that represent a stream of data. They allow you to traverse through all the elements of a collection (like lists, tuples, or dictionaries) one at a time. Iterators are implemented using two key methods:\n",
        "\n",
        "- A. __iter__(): Returns the iterator object itself.\n",
        "- B.  __next__(): Returns the next value from the iterator. If there are no more items, it raises a StopIteration exception.\n",
        "\n",
        "  Example of an Iterator:\n",
        "\n",
        "  my_list = [1, 2, 3]\n",
        "\n",
        "  iterator = iter(my_list)\n",
        "\n",
        "  print(next(iterator))\n",
        "\n",
        "  Output: 1 print(next(iterator))\n",
        "\n",
        "  Output: 2 print(next(iterator)) # Output: 3\n",
        "\n",
        "Difference Between Iterators and Iterables:\n",
        "\n",
        "  A} Iterable:\n",
        "\n",
        "- An iterable is any Python object that can return an iterator using the iter() function.\n",
        "- Examples: Lists, tuples, strings, dictionaries, and sets.\n",
        "-  It does not have a __next__() method but must have an __iter__() method.\n",
        "\n",
        "B} Iterator:\n",
        "- An iterator is an object that can be iterated upon (one element at a time) using the next() function.\n",
        "- It must implement both __iter__() and __next__() methods.\n",
        "\n",
        " Iterators are useful for memory-efficient looping, especially when working with large datasets or infinite sequences.\n",
        "\n",
        "6.Explain the concept of generators in Python and how they are defined.\n",
        "\n",
        "- Generators in Python are a special type of iterable that allow you to produce a sequence of values lazily, meaning they generate values on the fly and do not store them in memory. They are particularly useful for handling large datasets or infinite sequences efficiently.\n",
        "\n",
        "How Generators Are Defined:\n",
        "\n",
        "- Generator Functions: These are functions that use the yield keyword to return values one at a time.\n",
        "- Generator Expressions: These are similar to list comprehensions but use parentheses () instead of square brackets [].\n",
        "- Generator Functions A generator function is defined like a normal function but contains one or more yield statements. When the function is called, it returns a generator object without executing the function. The function's code runs only when next() is called on the generator object.\n",
        "\n",
        "  Example:\n",
        "  \n",
        "  def my_generator(): yield 1 yield 2 yield 3\n",
        "\n",
        "  gen = my_generator()\n",
        "\n",
        "  print(next(gen))\n",
        "\n",
        "  Output: 1 print(next(gen))\n",
        "\n",
        "  Output: 2 print(next(gen))\n",
        "- Generator Expressions Generator expressions are a concise way to create generators. They are written similarly to list comprehensions but use parentheses.\n",
        "\n",
        "  Example:\n",
        "  \n",
        "  gen_exp = (x**2 for x in range(5))\n",
        "  \n",
        "  print(next(gen_exp))\n",
        "  \n",
        "  print(next(gen_exp))\n",
        "  \n",
        "  print(next(gen_exp))\n",
        "\n",
        "Key Features of Generators:\n",
        "- Lazy Evaluation: Values are generated only when requested, saving memory.\n",
        "- State Retention: Generators maintain their state between calls, so they resume execution from where they left off.\n",
        "- StopIteration: When the generator has no more values to yield, it raises a StopIteration exception.\n",
        "\n",
        "Advantages of Generators:\n",
        "- Memory Efficiency: They do not store the entire sequence in memory.\n",
        "- Infinite Sequences: Generators can represent infinite sequences, unlike lists.\n",
        "- Improved Performance: They are faster for large datasets as they avoid the overhead of creating and storing large data structures.\n",
        "\n",
        " Generators are a powerful tool in Python for writing clean, efficient, and memory-friendly code. They are widely used in scenarios like data streaming, file processing, and asynchronous programming.\n",
        "\n",
        "\n",
        "7.What are the advantages of using generators over regular functions?\n",
        "\n",
        "- Memory Efficiency: Generators produce values on the fly and do not store the entire sequence in memory. This makes them highly efficient for handling large datasets or infinite sequences.\n",
        "\n",
        "- Lazy Evaluation: Generators generate values only when they are requested, avoiding unnecessary computations and saving processing time.\n",
        "\n",
        "- State Retention: Generators maintain their state between calls, allowing them to resume execution from where they left off. This is particularly useful for iterating over large datasets.\n",
        "\n",
        "- Improved Performance: Generators avoid the overhead of creating and storing large data structures, making them faster and more efficient for large-scale computations.\n",
        "\n",
        "- Support for Infinite Sequences: Unlike lists, generators can represent infinite sequences, as they generate values dynamically without requiring memory to store all elements.\n",
        "\n",
        "- Simpler Code: Generators often lead to cleaner and more readable code, especially when dealing with complex iteration logic.\n",
        "\n",
        "- Reduced Overhead: Generators eliminate the need to create intermediate data structures, reducing both memory usage and computational overhead.\n",
        "\n",
        "- Integration with Iteration: Generators are natively compatible with Python's iteration tools, such as for loops, making them easy to use in various scenarios.\n",
        "\n",
        "  Overall, generators are a powerful tool for writing efficient, scalable, and memory-friendly code.\n",
        "\n",
        "8.What is a lambda function in Python and when is it typically used?\n",
        "\n",
        "- A lambda function in Python is a small, anonymous function defined using the lambda keyword. Unlike regular functions defined with the def keyword, lambda functions are written in a single line and can have any number of arguments but only one expression. The result of the expression is automatically returned.\n",
        "\n",
        "  Syntax:  \n",
        "  lambda arguments: expression\n",
        "\n",
        "  Example:\n",
        "\n",
        "  Lambda function to add two numbers\n",
        "  \n",
        "  add = lambda x, y: x + y print(add(5, 3))\n",
        "\n",
        " Uses:\n",
        " - Short-lived Functions: Lambda functions are often used when a small function is needed temporarily, such as within another function or as an argument to higher-order functions.\n",
        "  -Higher-Order Functions: They are commonly used with functions like map(), filter(), and reduce() for concise and readable code.\n",
        "\n",
        "   - Using lambda with map\n",
        "\n",
        "      numbers = [1, 2, 3, 4]\n",
        "  \n",
        "      squares = map(lambda x: x**2, numbers)\n",
        "  \n",
        "      print(list(squares))\n",
        "  \n",
        "      Output: [1, 4, 9, 16]\n",
        "\n",
        " -   Sorting: Lambda functions are often used as the key argument in sorting operations.\n",
        "\n",
        "       -  Sorting a list of tuples by the second element\n",
        "\n",
        "       data = [(1, 'b'), (2, 'a'), (3, 'c')]\n",
        "       \n",
        "       sorted_data = sorted(data, key=lambda x: x[1])\n",
        "       \n",
        "       print(sorted_data)\n",
        "       \n",
        "       Output: [(2, 'a'), (1, 'b'), (3, 'c')]\n",
        "\n",
        "  - Inline Operations: Lambda functions are ideal for simple operations that don't require a full function definition.\n",
        "Advantages: * Concise and compact. * Eliminates the need for defining and naming a function when it's only used once.\n",
        "\n",
        "\n",
        "- Limitations:  Limited to a single expression, making them unsuitable for complex logic. Can sometimes reduce code readability when overused.\n",
        "\n",
        " Lambda functions are a powerful tool for writing concise and functional-style Python code.\n",
        "\n",
        "9.Explain the purpose and usage of the map() function in Python.\n",
        "\n",
        "- The map() function in Python is used to apply a given function to each item in an iterable (like a list, tuple, or set) and returns a map object (an iterator) containing the results. It is particularly useful for performing transformations or computations on a collection of data in a concise and efficient manner.\n",
        "\n",
        "  Syntax: map(function, iterable)\n",
        "\n",
        "- function: The function to apply to each item in the iterable.\n",
        "- iterable: The data structure (e.g., list, tuple) whose elements the function will process.\n",
        "- Additional iterables can be passed if the function takes multiple arguments.\n",
        "Purpose: The primary purpose of map() is to simplify the process of applying a function to all elements in an iterable without the need for explicit loops.\n",
        "\n",
        "  Example Usage:\n",
        "  \n",
        "  1. Basic Example: Applying a function to square each number in a list:\n",
        "\n",
        "   numbers = [1, 2, 3, 4]\n",
        "   \n",
        "   squares = map(lambda x: x**2, numbers) print(list(squares))\n",
        "   \n",
        "   Output: [1, 4, 9, 16]\n",
        "\n",
        "  2. Using Multiple Iterables:\n",
        "\n",
        "   Adding corresponding elements from two lists:\n",
        "\n",
        "   list1 = [1, 2, 3]\n",
        "   \n",
        "   list2 = [4, 5, 6]\n",
        "   \n",
        "   sums = map(lambda x, y: x + y, list1, list2)\n",
        "   \n",
        "   print(list(sums))\n",
        "   \n",
        "   Output: [5, 7, 9]\n",
        "\n",
        " 3. Using a Predefined Function:\n",
        "\n",
        "     Converting a list of strings to uppercase:\n",
        "\n",
        "    def to_uppercase(s): return s.upper()\n",
        "\n",
        "    strings = ['hello', 'world']\n",
        "    \n",
        "    uppercased = map(to_uppercase, strings)\n",
        "    \n",
        "    print(list(uppercased))\n",
        "    \n",
        "    Output: ['HELLO', 'WORLD']\n",
        "\n",
        "Advantages:\n",
        "\n",
        "- Eliminates the need for explicit loops, making code more concise and readable.\n",
        "- Works efficiently with large datasets since it returns an iterator.\n",
        "\n",
        "- The result of map() is a map object, which is an iterator. To view the results, you need to convert it to a list or another iterable type.\n",
        "- If the function is None, map() simply returns the items from the iterable.\n",
        "- The map() function is a powerful tool for functional programming in Python, enabling concise and efficient data transformations.\n",
        "\n",
        "10.What is the difference between map(), reduce(), and filter() functions in Python?\n",
        "\n",
        "  The map(), reduce(), and filter() functions in Python are used for functional programming and allow you to process and transform iterables efficiently. Here's a breakdown of their differences:\n",
        "\n",
        "- map()\n",
        "\n",
        "  Purpose: Applies a given function to each item in an iterable and returns an iterator with the results.\n",
        "\n",
        "  Use Case: Transforming data by applying a function to every element.\n",
        "\n",
        "  Syntax: map(function, iterable)\n",
        "\n",
        "  Example:\n",
        "\n",
        "  numbers = [1, 2, 3, 4]\n",
        "  \n",
        "  squares = map(lambda x: x**2, numbers)\n",
        "  \n",
        "  print(list(squares))\n",
        "  \n",
        "  Output: [1, 4, 9, 16]\n",
        "\n",
        "- reduce()\n",
        "\n",
        "  Purpose: Applies a function cumulatively to the items in an iterable, reducing it to a single value.\n",
        "\n",
        "   Use Case: Aggregating data (e.g., summing, multiplying, or finding the maximum).\n",
        "\n",
        "  Syntax: reduce(function, iterable[, initializer])\n",
        "\n",
        "   - reduce() is not a built-in function and must be imported from functools.\n",
        "\n",
        "  Example:\n",
        "\n",
        "  from functools import\n",
        "  \n",
        "  reduce numbers = [1, 2, 3, 4]\n",
        "  \n",
        "  total = reduce(lambda x, y: x + y, numbers)\n",
        "  \n",
        "  print(total) # Output: 10\n",
        "\n",
        "- filter()\n",
        "\n",
        "  Purpose: Filters elements from an iterable based on a function that returns True or False.\n",
        "\n",
        "  Use Case: Extracting elements that satisfy a condition.\n",
        "  \n",
        "  Syntax:\n",
        "\n",
        "   filter(function, iterable)\n",
        "\n",
        "  Example:\n",
        "\n",
        "  numbers = [1, 2, 3, 4, 5]\n",
        "\n",
        "  even_numbers = filter(lambda x: x % 2 == 0, numbers)\n",
        "  \n",
        "  print(list(even_numbers))\n",
        "  \n",
        "  Output: [2, 4]"
      ],
      "metadata": {
        "id": "uLPccBk-lpxq"
      }
    },
    {
      "cell_type": "markdown",
      "source": [
        "11. Using pen & Paper write the internal mechanism for sum operation using  reduce function on this given\n",
        "list:[47,11,42,13];\n",
        "\n",
        " (Attach paper image for this answer) in doc or colab notebook."
      ],
      "metadata": {
        "id": "HdZh3CLX0IKv"
      }
    },
    {
      "cell_type": "markdown",
      "source": [
        "![Reduce Function.jpeg](data:image/jpeg;base64,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)"
      ],
      "metadata": {
        "id": "IDFYYvTr6xCa"
      }
    },
    {
      "cell_type": "markdown",
      "source": [
        "#Practical Questions:\n",
        "\n",
        "\n"
      ],
      "metadata": {
        "id": "uhuDBd0ali31"
      }
    },
    {
      "cell_type": "markdown",
      "source": [
        "1. Write a Python function that takes a list of numbers as input and returns the sum of all even numbers in\n",
        "the list"
      ],
      "metadata": {
        "id": "EG-9ocC4UEeI"
      }
    },
    {
      "cell_type": "code",
      "source": [
        "def sum_even_numbers(numbers):\n",
        "  sum_even_numbers=0\n",
        "  for num in numbers:\n",
        "    if num % 2==0:\n",
        "      sum_even_numbers+=(num)\n",
        "  return sum_even_numbers"
      ],
      "metadata": {
        "id": "LesqHeLZTuDb"
      },
      "execution_count": 181,
      "outputs": []
    },
    {
      "cell_type": "code",
      "source": [
        "numbers=(1,2,3,4,5,6,7,8,9,10)\n",
        "sum_even_numbers(numbers)"
      ],
      "metadata": {
        "colab": {
          "base_uri": "https://localhost:8080/"
        },
        "id": "uwh_xSAXVUml",
        "outputId": "8852db54-e06f-45ce-8091-b8039dca62ea"
      },
      "execution_count": 182,
      "outputs": [
        {
          "output_type": "execute_result",
          "data": {
            "text/plain": [
              "30"
            ]
          },
          "metadata": {},
          "execution_count": 182
        }
      ]
    },
    {
      "cell_type": "markdown",
      "source": [
        "2. Create a Python function that accepts a string and returns the reverse of that string"
      ],
      "metadata": {
        "id": "2BXzZebMW0yE"
      }
    },
    {
      "cell_type": "code",
      "source": [
        "def reverse_string(string):\n",
        "  return string[::-1]"
      ],
      "metadata": {
        "id": "bB4acDgTW8Qq"
      },
      "execution_count": 183,
      "outputs": []
    },
    {
      "cell_type": "code",
      "source": [
        "string=\"Bhushan\"\n",
        "reverse_string(string)"
      ],
      "metadata": {
        "colab": {
          "base_uri": "https://localhost:8080/",
          "height": 36
        },
        "id": "QO37xEO4XVjC",
        "outputId": "e9a56834-767a-468c-cda0-525b0e363840"
      },
      "execution_count": 184,
      "outputs": [
        {
          "output_type": "execute_result",
          "data": {
            "text/plain": [
              "'nahsuhB'"
            ],
            "application/vnd.google.colaboratory.intrinsic+json": {
              "type": "string"
            }
          },
          "metadata": {},
          "execution_count": 184
        }
      ]
    },
    {
      "cell_type": "markdown",
      "source": [
        "3. Implement a Python function that takes a list of integers and returns a new list containing the squares of\n",
        "each number"
      ],
      "metadata": {
        "id": "yF_nwiXKXZMg"
      }
    },
    {
      "cell_type": "code",
      "source": [
        "def square(numbers):\n",
        "  sq=[]\n",
        "  for num in numbers:\n",
        "    sq.append(num**2)\n",
        "  return sq"
      ],
      "metadata": {
        "id": "ZgXqrtDrXcnB"
      },
      "execution_count": 139,
      "outputs": []
    },
    {
      "cell_type": "code",
      "source": [
        "numbers=[1,2,3,4,5,6,7,8,9,10]\n",
        "square(numbers)"
      ],
      "metadata": {
        "colab": {
          "base_uri": "https://localhost:8080/"
        },
        "id": "_sxNEfyqbGqr",
        "outputId": "eeb88d04-0292-4f0c-bea5-36ccd05cb805"
      },
      "execution_count": 141,
      "outputs": [
        {
          "output_type": "execute_result",
          "data": {
            "text/plain": [
              "[1, 4, 9, 16, 25, 36, 49, 64, 81, 100]"
            ]
          },
          "metadata": {},
          "execution_count": 141
        }
      ]
    },
    {
      "cell_type": "markdown",
      "source": [
        "4.. Write a Python function that checks if a given number is prime or not from 1 to 200"
      ],
      "metadata": {
        "id": "O5ne2fXPknnM"
      }
    },
    {
      "cell_type": "code",
      "source": [
        "def is_prime(number):\n",
        "  if number<=1:\n",
        "    return False\n",
        "  for i in range(2, int(number ** 0.5) + 1):\n",
        "        if number % i == 0:\n",
        "            return False\n",
        "  return True\n",
        "for num in range(1, 201):\n",
        "  if is_prime(num):\n",
        "      print(f\"{num} is a prime number.\")\n",
        "  else:\n",
        "      print(f\"{num} is not a prime number.\")"
      ],
      "metadata": {
        "colab": {
          "base_uri": "https://localhost:8080/"
        },
        "id": "k8w2wWUcmdHr",
        "outputId": "18094900-30a0-4bb8-913f-14446a4f3824"
      },
      "execution_count": 150,
      "outputs": [
        {
          "output_type": "stream",
          "name": "stdout",
          "text": [
            "1 is not a prime number.\n",
            "2 is a prime number.\n",
            "3 is a prime number.\n",
            "4 is not a prime number.\n",
            "5 is a prime number.\n",
            "6 is not a prime number.\n",
            "7 is a prime number.\n",
            "8 is not a prime number.\n",
            "9 is not a prime number.\n",
            "10 is not a prime number.\n",
            "11 is a prime number.\n",
            "12 is not a prime number.\n",
            "13 is a prime number.\n",
            "14 is not a prime number.\n",
            "15 is not a prime number.\n",
            "16 is not a prime number.\n",
            "17 is a prime number.\n",
            "18 is not a prime number.\n",
            "19 is a prime number.\n",
            "20 is not a prime number.\n",
            "21 is not a prime number.\n",
            "22 is not a prime number.\n",
            "23 is a prime number.\n",
            "24 is not a prime number.\n",
            "25 is not a prime number.\n",
            "26 is not a prime number.\n",
            "27 is not a prime number.\n",
            "28 is not a prime number.\n",
            "29 is a prime number.\n",
            "30 is not a prime number.\n",
            "31 is a prime number.\n",
            "32 is not a prime number.\n",
            "33 is not a prime number.\n",
            "34 is not a prime number.\n",
            "35 is not a prime number.\n",
            "36 is not a prime number.\n",
            "37 is a prime number.\n",
            "38 is not a prime number.\n",
            "39 is not a prime number.\n",
            "40 is not a prime number.\n",
            "41 is a prime number.\n",
            "42 is not a prime number.\n",
            "43 is a prime number.\n",
            "44 is not a prime number.\n",
            "45 is not a prime number.\n",
            "46 is not a prime number.\n",
            "47 is a prime number.\n",
            "48 is not a prime number.\n",
            "49 is not a prime number.\n",
            "50 is not a prime number.\n",
            "51 is not a prime number.\n",
            "52 is not a prime number.\n",
            "53 is a prime number.\n",
            "54 is not a prime number.\n",
            "55 is not a prime number.\n",
            "56 is not a prime number.\n",
            "57 is not a prime number.\n",
            "58 is not a prime number.\n",
            "59 is a prime number.\n",
            "60 is not a prime number.\n",
            "61 is a prime number.\n",
            "62 is not a prime number.\n",
            "63 is not a prime number.\n",
            "64 is not a prime number.\n",
            "65 is not a prime number.\n",
            "66 is not a prime number.\n",
            "67 is a prime number.\n",
            "68 is not a prime number.\n",
            "69 is not a prime number.\n",
            "70 is not a prime number.\n",
            "71 is a prime number.\n",
            "72 is not a prime number.\n",
            "73 is a prime number.\n",
            "74 is not a prime number.\n",
            "75 is not a prime number.\n",
            "76 is not a prime number.\n",
            "77 is not a prime number.\n",
            "78 is not a prime number.\n",
            "79 is a prime number.\n",
            "80 is not a prime number.\n",
            "81 is not a prime number.\n",
            "82 is not a prime number.\n",
            "83 is a prime number.\n",
            "84 is not a prime number.\n",
            "85 is not a prime number.\n",
            "86 is not a prime number.\n",
            "87 is not a prime number.\n",
            "88 is not a prime number.\n",
            "89 is a prime number.\n",
            "90 is not a prime number.\n",
            "91 is not a prime number.\n",
            "92 is not a prime number.\n",
            "93 is not a prime number.\n",
            "94 is not a prime number.\n",
            "95 is not a prime number.\n",
            "96 is not a prime number.\n",
            "97 is a prime number.\n",
            "98 is not a prime number.\n",
            "99 is not a prime number.\n",
            "100 is not a prime number.\n",
            "101 is a prime number.\n",
            "102 is not a prime number.\n",
            "103 is a prime number.\n",
            "104 is not a prime number.\n",
            "105 is not a prime number.\n",
            "106 is not a prime number.\n",
            "107 is a prime number.\n",
            "108 is not a prime number.\n",
            "109 is a prime number.\n",
            "110 is not a prime number.\n",
            "111 is not a prime number.\n",
            "112 is not a prime number.\n",
            "113 is a prime number.\n",
            "114 is not a prime number.\n",
            "115 is not a prime number.\n",
            "116 is not a prime number.\n",
            "117 is not a prime number.\n",
            "118 is not a prime number.\n",
            "119 is not a prime number.\n",
            "120 is not a prime number.\n",
            "121 is not a prime number.\n",
            "122 is not a prime number.\n",
            "123 is not a prime number.\n",
            "124 is not a prime number.\n",
            "125 is not a prime number.\n",
            "126 is not a prime number.\n",
            "127 is a prime number.\n",
            "128 is not a prime number.\n",
            "129 is not a prime number.\n",
            "130 is not a prime number.\n",
            "131 is a prime number.\n",
            "132 is not a prime number.\n",
            "133 is not a prime number.\n",
            "134 is not a prime number.\n",
            "135 is not a prime number.\n",
            "136 is not a prime number.\n",
            "137 is a prime number.\n",
            "138 is not a prime number.\n",
            "139 is a prime number.\n",
            "140 is not a prime number.\n",
            "141 is not a prime number.\n",
            "142 is not a prime number.\n",
            "143 is not a prime number.\n",
            "144 is not a prime number.\n",
            "145 is not a prime number.\n",
            "146 is not a prime number.\n",
            "147 is not a prime number.\n",
            "148 is not a prime number.\n",
            "149 is a prime number.\n",
            "150 is not a prime number.\n",
            "151 is a prime number.\n",
            "152 is not a prime number.\n",
            "153 is not a prime number.\n",
            "154 is not a prime number.\n",
            "155 is not a prime number.\n",
            "156 is not a prime number.\n",
            "157 is a prime number.\n",
            "158 is not a prime number.\n",
            "159 is not a prime number.\n",
            "160 is not a prime number.\n",
            "161 is not a prime number.\n",
            "162 is not a prime number.\n",
            "163 is a prime number.\n",
            "164 is not a prime number.\n",
            "165 is not a prime number.\n",
            "166 is not a prime number.\n",
            "167 is a prime number.\n",
            "168 is not a prime number.\n",
            "169 is not a prime number.\n",
            "170 is not a prime number.\n",
            "171 is not a prime number.\n",
            "172 is not a prime number.\n",
            "173 is a prime number.\n",
            "174 is not a prime number.\n",
            "175 is not a prime number.\n",
            "176 is not a prime number.\n",
            "177 is not a prime number.\n",
            "178 is not a prime number.\n",
            "179 is a prime number.\n",
            "180 is not a prime number.\n",
            "181 is a prime number.\n",
            "182 is not a prime number.\n",
            "183 is not a prime number.\n",
            "184 is not a prime number.\n",
            "185 is not a prime number.\n",
            "186 is not a prime number.\n",
            "187 is not a prime number.\n",
            "188 is not a prime number.\n",
            "189 is not a prime number.\n",
            "190 is not a prime number.\n",
            "191 is a prime number.\n",
            "192 is not a prime number.\n",
            "193 is a prime number.\n",
            "194 is not a prime number.\n",
            "195 is not a prime number.\n",
            "196 is not a prime number.\n",
            "197 is a prime number.\n",
            "198 is not a prime number.\n",
            "199 is a prime number.\n",
            "200 is not a prime number.\n"
          ]
        }
      ]
    },
    {
      "cell_type": "markdown",
      "source": [
        "5. Create an iterator class in Python that generates the Fibonacci sequence up to a specified number of\n",
        "terms.\n"
      ],
      "metadata": {
        "id": "yDL8a6Oer0_0"
      }
    },
    {
      "cell_type": "code",
      "source": [
        "class FibonacciIterator:\n",
        "    def __init__(self, n_terms):\n",
        "        self.n_terms = n_terms\n",
        "        self.current = 0\n",
        "        self.a, self.b = 0, 1\n",
        "\n",
        "    def __iter__(self):\n",
        "        return self\n",
        "\n",
        "    def __next__(self):\n",
        "        if self.current >= self.n_terms:\n",
        "            raise StopIteration\n",
        "        if self.current == 0:\n",
        "            self.current += 1\n",
        "            return self.a\n",
        "        elif self.current == 1:\n",
        "            self.current += 1\n",
        "            return self.b\n",
        "        else:\n",
        "            self.a, self.b = self.b, self.a + self.b\n",
        "            self.current += 1\n",
        "            return self.a\n",
        "\n",
        "fib = FibonacciIterator(10)\n",
        "for num in fib:\n",
        "    print(num)"
      ],
      "metadata": {
        "colab": {
          "base_uri": "https://localhost:8080/"
        },
        "id": "cS428ZAbr3sy",
        "outputId": "3e8f860c-63df-4d40-e95d-6564ec9a6d37"
      },
      "execution_count": 153,
      "outputs": [
        {
          "output_type": "stream",
          "name": "stdout",
          "text": [
            "0\n",
            "1\n",
            "1\n",
            "1\n",
            "2\n",
            "3\n",
            "5\n",
            "8\n",
            "13\n",
            "21\n"
          ]
        }
      ]
    },
    {
      "cell_type": "markdown",
      "source": [
        "6.Write a generator function in Python that yields the powers of 2 up to a given exponent."
      ],
      "metadata": {
        "id": "Vnn9Xjklt7AI"
      }
    },
    {
      "cell_type": "code",
      "source": [
        "def powers_of_two(max_exponent):\n",
        "    for exponent in range(max_exponent + 1):\n",
        "        yield 2 ** exponent\n",
        "\n",
        "max_exponent = 20\n",
        "print(f\"Powers of 2 up to 2^{max_exponent}:\")\n",
        "for power in powers_of_two(max_exponent):\n",
        "    print(power)"
      ],
      "metadata": {
        "colab": {
          "base_uri": "https://localhost:8080/"
        },
        "id": "IuAex16kt--a",
        "outputId": "789a541c-102c-4008-cabc-de895756f15f"
      },
      "execution_count": 164,
      "outputs": [
        {
          "output_type": "stream",
          "name": "stdout",
          "text": [
            "Powers of 2 up to 2^20:\n",
            "1\n",
            "2\n",
            "4\n",
            "8\n",
            "16\n",
            "32\n",
            "64\n",
            "128\n",
            "256\n",
            "512\n",
            "1024\n",
            "2048\n",
            "4096\n",
            "8192\n",
            "16384\n",
            "32768\n",
            "65536\n",
            "131072\n",
            "262144\n",
            "524288\n",
            "1048576\n"
          ]
        }
      ]
    },
    {
      "cell_type": "markdown",
      "source": [
        "7. Implement a generator function that reads a file line by line and yields each line as a string"
      ],
      "metadata": {
        "id": "AbQek0pNvxO7"
      }
    },
    {
      "cell_type": "code",
      "source": [
        "def read_file_line_by_line(file_path):\n",
        "    try:\n",
        "        with open(file_path, 'r') as file:\n",
        "            for line in file:\n",
        "                yield line.strip()\n",
        "    except FileNotFoundError:\n",
        "        print(f\"The file at {file_path} was not found.\")\n",
        "    except Exception as e:\n",
        "        print(f\"An error occurred: {e}\")\n",
        "\n",
        "file_path = 'example.txt'\n",
        "\n",
        "print(\"Reading file line by line:\")\n",
        "for line in read_file_line_by_line(file_path):\n",
        "    print(line)"
      ],
      "metadata": {
        "colab": {
          "base_uri": "https://localhost:8080/"
        },
        "id": "OcfVTkcRv0Lw",
        "outputId": "c8dac681-84b1-480d-81a3-a6a4e91f0158"
      },
      "execution_count": 167,
      "outputs": [
        {
          "output_type": "stream",
          "name": "stdout",
          "text": [
            "Reading file line by line:\n",
            "The file at example.txt was not found.\n"
          ]
        }
      ]
    },
    {
      "cell_type": "markdown",
      "source": [
        "8.Use a lambda function in Python to sort a list of tuples based on the second element of each tuple"
      ],
      "metadata": {
        "id": "US6uTorWwUOz"
      }
    },
    {
      "cell_type": "code",
      "source": [
        "listoftuple=[(3, 2), (5, 1), (9, 4), (13, 21)]\n",
        "sorted_list=sorted(listoftuple,key=lambda x:x[1])\n",
        "print(sorted_list)"
      ],
      "metadata": {
        "colab": {
          "base_uri": "https://localhost:8080/"
        },
        "id": "bFhGHW0CwRQi",
        "outputId": "60e57f08-883d-4f3c-a20a-8db7ece30fb6"
      },
      "execution_count": 172,
      "outputs": [
        {
          "output_type": "stream",
          "name": "stdout",
          "text": [
            "[(5, 1), (3, 2), (9, 4), (13, 21)]\n"
          ]
        }
      ]
    },
    {
      "cell_type": "markdown",
      "source": [
        "9.Write a Python program that uses `map()` to convert a list of temperatures from Celsius to Fahrenhei"
      ],
      "metadata": {
        "id": "1ZocvHv1xnk9"
      }
    },
    {
      "cell_type": "code",
      "source": [
        "celsius_temperatures = [0, 20, 37, 100]\n",
        "fahrenheit_temperatures = list(map(lambda c: (c * 9/5) + 32, celsius_temperatures))\n",
        "print(\"Temperatures in Fahrenheit:\", fahrenheit_temperatures)"
      ],
      "metadata": {
        "colab": {
          "base_uri": "https://localhost:8080/"
        },
        "id": "DI_v8T9CxqvQ",
        "outputId": "21c8a72e-bfe5-4d91-ff19-57072e4ed113"
      },
      "execution_count": 173,
      "outputs": [
        {
          "output_type": "stream",
          "name": "stdout",
          "text": [
            "Temperatures in Fahrenheit: [32.0, 68.0, 98.6, 212.0]\n"
          ]
        }
      ]
    },
    {
      "cell_type": "markdown",
      "source": [
        "10.Create a Python program that uses `filter()` to remove all the vowels from a given string."
      ],
      "metadata": {
        "id": "q03CDdbJx5Pz"
      }
    },
    {
      "cell_type": "code",
      "source": [
        "input_string = \"Pehli Pehli BaarJab Pyaar Kisi Se Hota Hai Hota Hai Yeh Haal Jab Pyaar Kisi Se Hota Hai Yeh Dil Kahi Lagata Nahin Teri Tarah Meri TarahPaagal Sabhi Ho Jaate Hai\"\n",
        "vowels = \"aeiouAEIOU\"\n",
        "filtered_string = ''.join(filter(lambda char: char not in vowels, input_string))\n",
        "print(\"String after removing vowels:\", filtered_string)"
      ],
      "metadata": {
        "colab": {
          "base_uri": "https://localhost:8080/"
        },
        "id": "oweuBgKyx8i6",
        "outputId": "053dba50-5982-4e4b-e490-1014608bf46d"
      },
      "execution_count": 177,
      "outputs": [
        {
          "output_type": "stream",
          "name": "stdout",
          "text": [
            "String after removing vowels: Phl Phl BrJb Pyr Ks S Ht H Ht H Yh Hl Jb Pyr Ks S Ht H Yh Dl Kh Lgt Nhn Tr Trh Mr TrhPgl Sbh H Jt H\n"
          ]
        }
      ]
    },
    {
      "cell_type": "markdown",
      "source": [
        "11.Imagine an accounting routine used in a book shop. It works on a list with sublists, which look like this:"
      ],
      "metadata": {
        "id": "gLGjfQGoyoDk"
      }
    },
    {
      "cell_type": "code",
      "source": [
        "\"\"\"\n",
        "orders = [\n",
        "    [34587, \"Learning Python, Mark Lutz\", 4, 40.95],\n",
        "    [98762, \"Programming Python, Mark Lutz\", 5, 56.80],\n",
        "    [77226, \"Head First Python, Paul Barry\", 3, 32.95],\n",
        "    [88112, \"Einführung in Python3, Bernd Klein\", 3, 24.99]\n",
        "]\n",
        "\"\"\""
      ],
      "metadata": {
        "id": "dNF9Dl2SzL1j"
      },
      "execution_count": null,
      "outputs": []
    },
    {
      "cell_type": "code",
      "source": [
        "orders = [\n",
        "    [34587, \"Learning Python, Mark Lutz\", 4, 40.95],\n",
        "    [98762, \"Programming Python, Mark Lutz\", 5, 56.80],\n",
        "    [77226, \"Head First Python, Paul Barry\", 3, 32.95],\n",
        "    [88112, \"Einführung in Python3, Bernd Klein\", 3, 24.99]\n",
        "]\n",
        "result = list(map(lambda order: (order[0], round(order[2] * order[3] + (10 if order[2] * order[3] < 100 else 0), 2)),orders))\n",
        "print(result)\n"
      ],
      "metadata": {
        "colab": {
          "base_uri": "https://localhost:8080/"
        },
        "id": "0B_L2rYZyy9c",
        "outputId": "a28aa80e-7d04-4db0-cbf7-ba31781d3516"
      },
      "execution_count": 180,
      "outputs": [
        {
          "output_type": "stream",
          "name": "stdout",
          "text": [
            "[(34587, 163.8), (98762, 284.0), (77226, 108.85), (88112, 84.97)]\n"
          ]
        }
      ]
    }
  ]
}